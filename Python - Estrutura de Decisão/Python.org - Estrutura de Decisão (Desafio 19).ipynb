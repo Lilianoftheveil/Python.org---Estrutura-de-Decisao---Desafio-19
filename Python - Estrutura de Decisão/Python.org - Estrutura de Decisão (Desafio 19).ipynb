{
 "cells": [
  {
   "cell_type": "code",
   "execution_count": null,
   "id": "f704985c",
   "metadata": {},
   "outputs": [],
   "source": [
    "Python - Lista de Exercícios (Estrutura de Decisão) \n",
    "link: https://wiki.python.org.br/EstruturaDeDecisao"
   ]
  },
  {
   "cell_type": "markdown",
   "id": "0788cfd9",
   "metadata": {},
   "source": [
    "19) Faça um Programa que leia um número inteiro menor que 1000 e imprima a quantidade de centenas, dezenas e unidades do mesmo.\n",
    "Observando os termos no plural a colocação do \"e\", da vírgula entre outros. Exemplo:\n",
    "326 = 3 centenas, 2 dezenas e 6 unidades\n",
    "12 = 1 dezena e 2 unidades Testar com: 326, 300, 100, 320, 310,305, 301, 101, 311, 111, 25, 20, 10, 21, 11, 1, 7 e 16"
   ]
  },
  {
   "cell_type": "code",
   "execution_count": null,
   "id": "6d7cf684",
   "metadata": {},
   "outputs": [],
   "source": [
    "Obs.: Visando desenvolver o programa de forma mais dinâmica e menos suscetível a erros, adicionei \n",
    "outras estruturas no corpo do código. De modo que apenas números positivos sejam aceitos\n",
    "durante sua execução."
   ]
  },
  {
   "cell_type": "code",
   "execution_count": null,
   "id": "eb6d47b6",
   "metadata": {},
   "outputs": [],
   "source": [
    "while True:\n",
    "  x = input(\"Digite um número inteiro menor que 1000: \")\n",
    "  try:\n",
    "    float(x)\n",
    "    if float(x) < 1 or float(x) > 1000:\n",
    "      print(\"Por favor digite apenas números positivos (máx. 1000).\")\n",
    "      continue\n",
    "    else:\n",
    "      break\n",
    "  except:\n",
    "    print(\"Por favor, digite apenas números.\")\n",
    "    continue\n",
    "\n",
    "if len(x) == 1:\n",
    "  if float(x[0]) == 1:\n",
    "    a = \"unidade\"\n",
    "  elif float(x[0]) > 1:\n",
    "    a = \"unidades\"\n",
    "  print(f\"{x[0]} {a}.\")\n",
    "\n",
    "if len(x) == 2:\n",
    "  if float(x[0]) == 1:\n",
    "    a = \"dezena\"\n",
    "  elif float(x[0]) > 1:\n",
    "    a = \"dezenas\"\n",
    "  if float(x[1]) == 1:\n",
    "    b = \"unidade\"\n",
    "  elif float(x[1]) > 1 or float(x[1]) == 0:\n",
    "    b = \"unidades\"\n",
    "  print(f\"{x[0]} {a} e {x[1]} {b}.\")\n",
    "\n",
    "if len(x) == 3:\n",
    "  if float(x[0]) == 1:\n",
    "    a = \"centena\"\n",
    "  elif float(x[0]) > 1:\n",
    "    a = \"centenas\"\n",
    "  if float(x[1]) == 1:\n",
    "    b = \"dezena\"\n",
    "  elif float(x[1]) > 1 or float(x[1]) == 0:\n",
    "    b = \"dezenas\"\n",
    "  if float(x[2]) == 1:\n",
    "    c = \"unidade\"\n",
    "  elif float(x[2]) > 1 or float(x[2]) == 0:\n",
    "    c = \"unidades\"\n",
    "  print(f\"{x[0]} {a}, {x[1]} {b} e {x[2]} {c}.\")"
   ]
  }
 ],
 "metadata": {
  "kernelspec": {
   "display_name": "Python 3 (ipykernel)",
   "language": "python",
   "name": "python3"
  },
  "language_info": {
   "codemirror_mode": {
    "name": "ipython",
    "version": 3
   },
   "file_extension": ".py",
   "mimetype": "text/x-python",
   "name": "python",
   "nbconvert_exporter": "python",
   "pygments_lexer": "ipython3",
   "version": "3.8.10"
  }
 },
 "nbformat": 4,
 "nbformat_minor": 5
}
